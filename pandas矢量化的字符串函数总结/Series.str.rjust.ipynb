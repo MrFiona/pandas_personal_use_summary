{
 "cells": [
  {
   "cell_type": "code",
   "execution_count": 1,
   "metadata": {
    "collapsed": true
   },
   "outputs": [],
   "source": [
    "import pandas as pd"
   ]
  },
  {
   "cell_type": "markdown",
   "metadata": {},
   "source": [
    "# Series.str.rjust等同于pad(side=”left”)字符串右移"
   ]
  },
  {
   "cell_type": "code",
   "execution_count": 2,
   "metadata": {
    "collapsed": true
   },
   "outputs": [],
   "source": [
    "s = pd.Series(['A', 'B', 'C', 'Aaba', 'Baca', 'CABA', 'dog', 'cat'])"
   ]
  },
  {
   "cell_type": "code",
   "execution_count": 4,
   "metadata": {
    "collapsed": false
   },
   "outputs": [
    {
     "name": "stdout",
     "output_type": "stream",
     "text": [
      "0    aaaaA\n",
      "1    aaaaB\n",
      "2    aaaaC\n",
      "3    aAaba\n",
      "4    aBaca\n",
      "5    aCABA\n",
      "6    aadog\n",
      "7    aacat\n",
      "dtype: object\n"
     ]
    }
   ],
   "source": [
    "print(s.str.rjust(5,fillchar=\"a\"))"
   ]
  },
  {
   "cell_type": "code",
   "execution_count": 5,
   "metadata": {
    "collapsed": false
   },
   "outputs": [
    {
     "name": "stdout",
     "output_type": "stream",
     "text": [
      "Help on method rjust in module pandas.core.strings:\n",
      "\n",
      "rjust(width, fillchar=' ') method of pandas.core.strings.StringMethods instance\n",
      "    Filling left side of strings in the Series/Index with an\n",
      "    additional character. Equivalent to :meth:`str.rjust`.\n",
      "    \n",
      "    Parameters\n",
      "    ----------\n",
      "    width : int\n",
      "        Minimum width of resulting string; additional characters will be filled\n",
      "        with ``fillchar``\n",
      "    fillchar : str\n",
      "        Additional character for filling, default is whitespace\n",
      "    \n",
      "    Returns\n",
      "    -------\n",
      "    filled : Series/Index of objects\n",
      "\n"
     ]
    }
   ],
   "source": [
    "help(s.str.rjust)"
   ]
  }
 ],
 "metadata": {
  "anaconda-cloud": {},
  "kernelspec": {
   "display_name": "Python [default]",
   "language": "python",
   "name": "python3"
  },
  "language_info": {
   "codemirror_mode": {
    "name": "ipython",
    "version": 3
   },
   "file_extension": ".py",
   "mimetype": "text/x-python",
   "name": "python",
   "nbconvert_exporter": "python",
   "pygments_lexer": "ipython3",
   "version": "3.5.2"
  }
 },
 "nbformat": 4,
 "nbformat_minor": 1
}
