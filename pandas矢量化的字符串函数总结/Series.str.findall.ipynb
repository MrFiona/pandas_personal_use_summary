{
 "cells": [
  {
   "cell_type": "code",
   "execution_count": 1,
   "metadata": {
    "collapsed": true
   },
   "outputs": [],
   "source": [
    "import re\n",
    "import pandas as pd"
   ]
  },
  {
   "cell_type": "markdown",
   "metadata": {},
   "source": [
    "# Series.str.findall返回要查询的内容"
   ]
  },
  {
   "cell_type": "code",
   "execution_count": 2,
   "metadata": {
    "collapsed": true
   },
   "outputs": [],
   "source": [
    "s = pd.Series(['A', 'B', 'C', 'Aaba', 'Baca', 'CABA', 'dog', 'cat'])"
   ]
  },
  {
   "cell_type": "code",
   "execution_count": 3,
   "metadata": {
    "collapsed": false
   },
   "outputs": [
    {
     "name": "stdout",
     "output_type": "stream",
     "text": [
      "0        []\n",
      "1        []\n",
      "2        []\n",
      "3    [a, a]\n",
      "4    [a, a]\n",
      "5        []\n",
      "6        []\n",
      "7       [a]\n",
      "dtype: object\n"
     ]
    }
   ],
   "source": [
    "print(s.str.findall(\"a\"))"
   ]
  },
  {
   "cell_type": "code",
   "execution_count": 4,
   "metadata": {
    "collapsed": false
   },
   "outputs": [
    {
     "name": "stdout",
     "output_type": "stream",
     "text": [
      "0          [A]\n",
      "1           []\n",
      "2           []\n",
      "3    [A, a, a]\n",
      "4       [a, a]\n",
      "5       [A, A]\n",
      "6           []\n",
      "7          [a]\n",
      "dtype: object\n"
     ]
    }
   ],
   "source": [
    "print(s.str.findall(\"a\", flags=re.IGNORECASE))"
   ]
  },
  {
   "cell_type": "code",
   "execution_count": 5,
   "metadata": {
    "collapsed": false
   },
   "outputs": [
    {
     "name": "stdout",
     "output_type": "stream",
     "text": [
      "Help on method str_findall in module pandas.core.strings:\n",
      "\n",
      "str_findall(pat, flags=0, **kwargs) method of pandas.core.strings.StringMethods instance\n",
      "    Find all occurrences of pattern or regular expression in the\n",
      "    Series/Index. Equivalent to :func:`re.findall`.\n",
      "    \n",
      "    Parameters\n",
      "    ----------\n",
      "    pat : string\n",
      "        Pattern or regular expression\n",
      "    flags : int, default 0 (no flags)\n",
      "        re module flags, e.g. re.IGNORECASE\n",
      "    \n",
      "    Returns\n",
      "    -------\n",
      "    matches : Series/Index of lists\n",
      "    \n",
      "    See Also\n",
      "    --------\n",
      "    extractall : returns DataFrame with one column per capture group\n",
      "\n"
     ]
    }
   ],
   "source": [
    "help(s.str.findall)"
   ]
  }
 ],
 "metadata": {
  "anaconda-cloud": {},
  "kernelspec": {
   "display_name": "Python [default]",
   "language": "python",
   "name": "python3"
  },
  "language_info": {
   "codemirror_mode": {
    "name": "ipython",
    "version": 3
   },
   "file_extension": ".py",
   "mimetype": "text/x-python",
   "name": "python",
   "nbconvert_exporter": "python",
   "pygments_lexer": "ipython3",
   "version": "3.5.2"
  }
 },
 "nbformat": 4,
 "nbformat_minor": 1
}
