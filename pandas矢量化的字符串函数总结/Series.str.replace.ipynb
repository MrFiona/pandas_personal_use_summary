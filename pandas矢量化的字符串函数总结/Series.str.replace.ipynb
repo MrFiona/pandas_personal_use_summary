{
 "cells": [
  {
   "cell_type": "code",
   "execution_count": 1,
   "metadata": {
    "collapsed": true
   },
   "outputs": [],
   "source": [
    "import re\n",
    "import numpy as np\n",
    "import pandas as pd"
   ]
  },
  {
   "cell_type": "markdown",
   "metadata": {},
   "source": [
    "# Series.str.replace(pat, repl, n=-1, case=True, flags=0)替换指定字符 "
   ]
  },
  {
   "cell_type": "code",
   "execution_count": 2,
   "metadata": {
    "collapsed": true
   },
   "outputs": [],
   "source": [
    "s = pd.Series(['A', 'B', 'C', 'Aaba', 'Baca', 'CABA', 'dog', 'cat'])"
   ]
  },
  {
   "cell_type": "code",
   "execution_count": 3,
   "metadata": {
    "collapsed": false
   },
   "outputs": [
    {
     "name": "stdout",
     "output_type": "stream",
     "text": [
      "0       @\n",
      "1       B\n",
      "2       C\n",
      "3    @@b@\n",
      "4    B@c@\n",
      "5    C@B@\n",
      "6     dog\n",
      "7     c@t\n",
      "dtype: object\n"
     ]
    }
   ],
   "source": [
    "print(s.str.replace('a', repl='@', n=-1, flags=re.IGNORECASE)) #todo flags=re.IGNORECASE指定不区分大小写 n=-1所有都替换"
   ]
  },
  {
   "cell_type": "code",
   "execution_count": 4,
   "metadata": {
    "collapsed": false
   },
   "outputs": [
    {
     "name": "stdout",
     "output_type": "stream",
     "text": [
      "0       @\n",
      "1       B\n",
      "2       C\n",
      "3    @aba\n",
      "4    B@ca\n",
      "5    C@BA\n",
      "6     dog\n",
      "7     c@t\n",
      "dtype: object\n"
     ]
    }
   ],
   "source": [
    "print(s.str.replace('a', repl='@', n=1, flags=re.IGNORECASE)) #todo 1只替换一次"
   ]
  },
  {
   "cell_type": "code",
   "execution_count": 5,
   "metadata": {
    "collapsed": false
   },
   "outputs": [
    {
     "name": "stdout",
     "output_type": "stream",
     "text": [
      "0       @\n",
      "1       B\n",
      "2       C\n",
      "3    @@ba\n",
      "4    B@c@\n",
      "5    C@B@\n",
      "6     dog\n",
      "7     c@t\n",
      "dtype: object\n"
     ]
    }
   ],
   "source": [
    "print(s.str.replace('a', repl='@', n=2, flags=re.IGNORECASE)) #todo 2只替换两次"
   ]
  },
  {
   "cell_type": "code",
   "execution_count": 6,
   "metadata": {
    "collapsed": false
   },
   "outputs": [
    {
     "name": "stdout",
     "output_type": "stream",
     "text": [
      "0       @\n",
      "1       B\n",
      "2       C\n",
      "3    @@ba\n",
      "4    B@c@\n",
      "5    C@B@\n",
      "6     dog\n",
      "7     c@t\n",
      "dtype: object\n"
     ]
    }
   ],
   "source": [
    "print(s.str.replace('a', repl='@', n=2, case=False, flags=0)) #todo 2只替换两次，False则不区分大小写，跟上面的效果一致"
   ]
  },
  {
   "cell_type": "code",
   "execution_count": 7,
   "metadata": {
    "collapsed": false
   },
   "outputs": [
    {
     "name": "stdout",
     "output_type": "stream",
     "text": [
      "0       A\n",
      "1       B\n",
      "2       C\n",
      "3    A@b@\n",
      "4    B@c@\n",
      "5    CABA\n",
      "6     dog\n",
      "7     c@t\n",
      "dtype: object\n"
     ]
    }
   ],
   "source": [
    "print(s.str.replace('a', repl='@', n=2, case=True, flags=0)) #todo 2只替换两次，True则区分大小写"
   ]
  },
  {
   "cell_type": "code",
   "execution_count": 8,
   "metadata": {
    "collapsed": false
   },
   "outputs": [
    {
     "name": "stdout",
     "output_type": "stream",
     "text": [
      "Help on method replace in module pandas.core.strings:\n",
      "\n",
      "replace(pat, repl, n=-1, case=True, flags=0) method of pandas.core.strings.StringMethods instance\n",
      "    Replace occurrences of pattern/regex in the Series/Index with\n",
      "    some other string. Equivalent to :meth:`str.replace` or\n",
      "    :func:`re.sub`.\n",
      "    \n",
      "    Parameters\n",
      "    ----------\n",
      "    pat : string\n",
      "        Character sequence or regular expression\n",
      "    repl : string\n",
      "        Replacement sequence\n",
      "    n : int, default -1 (all)\n",
      "        Number of replacements to make from start\n",
      "    case : boolean, default True\n",
      "        If True, case sensitive\n",
      "    flags : int, default 0 (no flags)\n",
      "        re module flags, e.g. re.IGNORECASE\n",
      "    \n",
      "    Returns\n",
      "    -------\n",
      "    replaced : Series/Index of objects\n",
      "\n"
     ]
    }
   ],
   "source": [
    "help(s.str.replace)"
   ]
  },
  {
   "cell_type": "code",
   "execution_count": null,
   "metadata": {
    "collapsed": true
   },
   "outputs": [],
   "source": [
    "\"\"\"\n",
    "    参数: \n",
    "    pat : 字符串,要替换的值可以是正则表达式 \n",
    "    repl : 字符串,替换值 \n",
    "    n : 整型, 要替换几处(默认-1,表示所有都要替换) \n",
    "    case : 布尔值, 如果为True则是严格替换,区分大小写\n",
    "    flags : 整型, 如果为0则没有flags \n",
    "\"\"\""
   ]
  }
 ],
 "metadata": {
  "anaconda-cloud": {},
  "kernelspec": {
   "display_name": "Python [default]",
   "language": "python",
   "name": "python3"
  },
  "language_info": {
   "codemirror_mode": {
    "name": "ipython",
    "version": 3
   },
   "file_extension": ".py",
   "mimetype": "text/x-python",
   "name": "python",
   "nbconvert_exporter": "python",
   "pygments_lexer": "ipython3",
   "version": "3.5.2"
  }
 },
 "nbformat": 4,
 "nbformat_minor": 1
}
