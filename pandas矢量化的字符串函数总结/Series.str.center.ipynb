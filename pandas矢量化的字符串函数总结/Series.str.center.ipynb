{
 "cells": [
  {
   "cell_type": "code",
   "execution_count": 1,
   "metadata": {
    "collapsed": true
   },
   "outputs": [],
   "source": [
    "import pandas as pd"
   ]
  },
  {
   "cell_type": "markdown",
   "metadata": {},
   "source": [
    "# Series.str.center设置字符的宽度,从两边填充"
   ]
  },
  {
   "cell_type": "code",
   "execution_count": 2,
   "metadata": {
    "collapsed": true
   },
   "outputs": [],
   "source": [
    "s = pd.Series(['A', 'B', 'C', 'Aaba', 'Baca', 'CABA', 'dog', 'cat'])"
   ]
  },
  {
   "cell_type": "code",
   "execution_count": 3,
   "metadata": {
    "collapsed": false
   },
   "outputs": [
    {
     "name": "stdout",
     "output_type": "stream",
     "text": [
      "0    aaAaa\n",
      "1    aaBaa\n",
      "2    aaCaa\n",
      "3    aAaba\n",
      "4    aBaca\n",
      "5    aCABA\n",
      "6    adoga\n",
      "7    acata\n",
      "dtype: object\n"
     ]
    }
   ],
   "source": [
    "print(s.str.center(5,fillchar=\"a\"))"
   ]
  },
  {
   "cell_type": "code",
   "execution_count": 4,
   "metadata": {
    "collapsed": false
   },
   "outputs": [
    {
     "name": "stdout",
     "output_type": "stream",
     "text": [
      "Help on method center in module pandas.core.strings:\n",
      "\n",
      "center(width, fillchar=' ') method of pandas.core.strings.StringMethods instance\n",
      "    Filling left and right side of strings in the Series/Index with an\n",
      "    additional character. Equivalent to :meth:`str.center`.\n",
      "    \n",
      "    Parameters\n",
      "    ----------\n",
      "    width : int\n",
      "        Minimum width of resulting string; additional characters will be filled\n",
      "        with ``fillchar``\n",
      "    fillchar : str\n",
      "        Additional character for filling, default is whitespace\n",
      "    \n",
      "    Returns\n",
      "    -------\n",
      "    filled : Series/Index of objects\n",
      "\n"
     ]
    }
   ],
   "source": [
    "help(s.str.center)"
   ]
  }
 ],
 "metadata": {
  "anaconda-cloud": {},
  "kernelspec": {
   "display_name": "Python [default]",
   "language": "python",
   "name": "python3"
  },
  "language_info": {
   "codemirror_mode": {
    "name": "ipython",
    "version": 3
   },
   "file_extension": ".py",
   "mimetype": "text/x-python",
   "name": "python",
   "nbconvert_exporter": "python",
   "pygments_lexer": "ipython3",
   "version": "3.5.2"
  }
 },
 "nbformat": 4,
 "nbformat_minor": 1
}
