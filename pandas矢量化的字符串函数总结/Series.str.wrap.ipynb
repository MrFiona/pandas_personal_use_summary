{
 "cells": [
  {
   "cell_type": "code",
   "execution_count": 1,
   "metadata": {
    "collapsed": true
   },
   "outputs": [],
   "source": [
    "import pandas as pd"
   ]
  },
  {
   "cell_type": "markdown",
   "metadata": {},
   "source": [
    "# Series.str.wrap包裹字符串"
   ]
  },
  {
   "cell_type": "code",
   "execution_count": 2,
   "metadata": {
    "collapsed": true
   },
   "outputs": [],
   "source": [
    "s = pd.Series(['line to be wrapped', 'another line to be wrapped'])"
   ]
  },
  {
   "cell_type": "code",
   "execution_count": 7,
   "metadata": {
    "collapsed": false
   },
   "outputs": [
    {
     "name": "stdout",
     "output_type": "stream",
     "text": [
      "0             line to be\\nwrapped\n",
      "1    another line\\nto be\\nwrapped\n",
      "dtype: object\n"
     ]
    }
   ],
   "source": [
    "print(s.str.wrap(12))"
   ]
  },
  {
   "cell_type": "code",
   "execution_count": 4,
   "metadata": {
    "collapsed": false
   },
   "outputs": [
    {
     "name": "stdout",
     "output_type": "stream",
     "text": [
      "Help on method wrap in module pandas.core.strings:\n",
      "\n",
      "wrap(width, **kwargs) method of pandas.core.strings.StringMethods instance\n",
      "    Wrap long strings in the Series/Index to be formatted in\n",
      "    paragraphs with length less than a given width.\n",
      "    \n",
      "    This method has the same keyword parameters and defaults as\n",
      "    :class:`textwrap.TextWrapper`.\n",
      "    \n",
      "    Parameters\n",
      "    ----------\n",
      "    width : int\n",
      "        Maximum line-width\n",
      "    expand_tabs : bool, optional\n",
      "        If true, tab characters will be expanded to spaces (default: True)\n",
      "    replace_whitespace : bool, optional\n",
      "        If true, each whitespace character (as defined by string.whitespace)\n",
      "        remaining after tab expansion will be replaced by a single space\n",
      "        (default: True)\n",
      "    drop_whitespace : bool, optional\n",
      "        If true, whitespace that, after wrapping, happens to end up at the\n",
      "        beginning or end of a line is dropped (default: True)\n",
      "    break_long_words : bool, optional\n",
      "        If true, then words longer than width will be broken in order to ensure\n",
      "        that no lines are longer than width. If it is false, long words will\n",
      "        not be broken, and some lines may be longer than width. (default: True)\n",
      "    break_on_hyphens : bool, optional\n",
      "        If true, wrapping will occur preferably on whitespace and right after\n",
      "        hyphens in compound words, as it is customary in English. If false,\n",
      "        only whitespaces will be considered as potentially good places for line\n",
      "        breaks, but you need to set break_long_words to false if you want truly\n",
      "        insecable words. (default: True)\n",
      "    \n",
      "    Returns\n",
      "    -------\n",
      "    wrapped : Series/Index of objects\n",
      "    \n",
      "    Notes\n",
      "    -----\n",
      "    Internally, this method uses a :class:`textwrap.TextWrapper` instance with\n",
      "    default settings. To achieve behavior matching R's stringr library str_wrap\n",
      "    function, use the arguments:\n",
      "    \n",
      "    - expand_tabs = False\n",
      "    - replace_whitespace = True\n",
      "    - drop_whitespace = True\n",
      "    - break_long_words = False\n",
      "    - break_on_hyphens = False\n",
      "    \n",
      "    Examples\n",
      "    --------\n",
      "    \n",
      "    >>> s = pd.Series(['line to be wrapped', 'another line to be wrapped'])\n",
      "    >>> s.str.wrap(12)\n",
      "    0             line to be\\nwrapped\n",
      "    1    another line\\nto be\\nwrapped\n",
      "\n"
     ]
    }
   ],
   "source": [
    "help(s.str.wrap)"
   ]
  },
  {
   "cell_type": "code",
   "execution_count": null,
   "metadata": {
    "collapsed": true
   },
   "outputs": [],
   "source": [
    "\"\"\"\n",
    "    参数: \n",
    "    width : 整型,最小字符串长度 \n",
    "    expand_tabs : 布尔型, 默认为True,tab也会被包裹 \n",
    "    replace_whitespace : 布尔型,默认为True,空白会被空格替换 \n",
    "    drop_whitespace : 布尔型,默认为True,?? \n",
    "    break_long_words : 布尔型,默认为True,长字符串会被按照Int大小截取 \n",
    "    break_on_hyphens : 布尔型,默认为True,?? \n",
    "\"\"\""
   ]
  }
 ],
 "metadata": {
  "anaconda-cloud": {},
  "kernelspec": {
   "display_name": "Python [default]",
   "language": "python",
   "name": "python3"
  },
  "language_info": {
   "codemirror_mode": {
    "name": "ipython",
    "version": 3
   },
   "file_extension": ".py",
   "mimetype": "text/x-python",
   "name": "python",
   "nbconvert_exporter": "python",
   "pygments_lexer": "ipython3",
   "version": "3.5.2"
  }
 },
 "nbformat": 4,
 "nbformat_minor": 1
}
