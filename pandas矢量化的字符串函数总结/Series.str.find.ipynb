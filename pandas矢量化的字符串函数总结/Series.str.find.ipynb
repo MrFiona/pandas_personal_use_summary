{
 "cells": [
  {
   "cell_type": "code",
   "execution_count": 1,
   "metadata": {
    "collapsed": true
   },
   "outputs": [],
   "source": [
    "import numpy as np\n",
    "import pandas as pd"
   ]
  },
  {
   "cell_type": "markdown",
   "metadata": {},
   "source": [
    "# Series.str.find 返回字符串中第一次出现指定字符的下标位置"
   ]
  },
  {
   "cell_type": "code",
   "execution_count": 2,
   "metadata": {
    "collapsed": true
   },
   "outputs": [],
   "source": [
    "s = pd.Series(['A', 'B', 'C', 'Aaba', 'Baca', 'CABA', 'dog', 'cat'])"
   ]
  },
  {
   "cell_type": "code",
   "execution_count": 3,
   "metadata": {
    "collapsed": false
   },
   "outputs": [
    {
     "name": "stdout",
     "output_type": "stream",
     "text": [
      "0   -1\n",
      "1   -1\n",
      "2   -1\n",
      "3    1\n",
      "4    1\n",
      "5   -1\n",
      "6   -1\n",
      "7    1\n",
      "dtype: int64\n"
     ]
    }
   ],
   "source": [
    "print(s.str.find(\"a\"))"
   ]
  },
  {
   "cell_type": "code",
   "execution_count": 4,
   "metadata": {
    "collapsed": false
   },
   "outputs": [
    {
     "name": "stdout",
     "output_type": "stream",
     "text": [
      "Help on method find in module pandas.core.strings:\n",
      "\n",
      "find(sub, start=0, end=None) method of pandas.core.strings.StringMethods instance\n",
      "    Return lowest indexes in each strings in the Series/Index\n",
      "    where the substring is fully contained between [start:end].\n",
      "    Return -1 on failure. Equivalent to standard :meth:`str.find`.\n",
      "    \n",
      "    Parameters\n",
      "    ----------\n",
      "    sub : str\n",
      "        Substring being searched\n",
      "    start : int\n",
      "        Left edge index\n",
      "    end : int\n",
      "        Right edge index\n",
      "    \n",
      "    Returns\n",
      "    -------\n",
      "    found : Series/Index of integer values\n",
      "    \n",
      "    See Also\n",
      "    --------\n",
      "    rfind : Return highest indexes in each strings\n",
      "\n"
     ]
    }
   ],
   "source": [
    "help(s.str.find)"
   ]
  }
 ],
 "metadata": {
  "kernelspec": {
   "display_name": "Python [default]",
   "language": "python",
   "name": "python3"
  },
  "language_info": {
   "codemirror_mode": {
    "name": "ipython",
    "version": 3
   },
   "file_extension": ".py",
   "mimetype": "text/x-python",
   "name": "python",
   "nbconvert_exporter": "python",
   "pygments_lexer": "ipython3",
   "version": "3.5.2"
  }
 },
 "nbformat": 4,
 "nbformat_minor": 1
}
