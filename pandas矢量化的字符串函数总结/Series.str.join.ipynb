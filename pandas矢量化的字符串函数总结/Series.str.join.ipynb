{
 "cells": [
  {
   "cell_type": "code",
   "execution_count": 1,
   "metadata": {
    "collapsed": true
   },
   "outputs": [],
   "source": [
    "import numpy as np\n",
    "import pandas as pd"
   ]
  },
  {
   "cell_type": "markdown",
   "metadata": {},
   "source": [
    "# Series.str.join(sep)在字符之间插入分隔符 "
   ]
  },
  {
   "cell_type": "code",
   "execution_count": 2,
   "metadata": {
    "collapsed": true
   },
   "outputs": [],
   "source": [
    "s = pd.Series(['A', 'B', 'C', 'Aaba', 'Baca', 'CABA', 'dog', 'cat'])"
   ]
  },
  {
   "cell_type": "code",
   "execution_count": 3,
   "metadata": {
    "collapsed": false
   },
   "outputs": [
    {
     "name": "stdout",
     "output_type": "stream",
     "text": [
      "0          A\n",
      "1          B\n",
      "2          C\n",
      "3    A,a,b,a\n",
      "4    B,a,c,a\n",
      "5    C,A,B,A\n",
      "6      d,o,g\n",
      "7      c,a,t\n",
      "dtype: object\n"
     ]
    }
   ],
   "source": [
    "print(s.str.join(\",\"))"
   ]
  },
  {
   "cell_type": "code",
   "execution_count": 4,
   "metadata": {
    "collapsed": false
   },
   "outputs": [
    {
     "name": "stdout",
     "output_type": "stream",
     "text": [
      "Help on method join in module pandas.core.strings:\n",
      "\n",
      "join(sep) method of pandas.core.strings.StringMethods instance\n",
      "    Join lists contained as elements in the Series/Index with\n",
      "    passed delimiter. Equivalent to :meth:`str.join`.\n",
      "    \n",
      "    Parameters\n",
      "    ----------\n",
      "    sep : string\n",
      "        Delimiter\n",
      "    \n",
      "    Returns\n",
      "    -------\n",
      "    joined : Series/Index of objects\n",
      "\n"
     ]
    }
   ],
   "source": [
    "help(s.str.join)"
   ]
  },
  {
   "cell_type": "code",
   "execution_count": null,
   "metadata": {
    "collapsed": true
   },
   "outputs": [],
   "source": [
    "\"\"\"\n",
    "    参数: \n",
    "    sep : 字符串,要插入的分隔符 \n",
    "\"\"\""
   ]
  }
 ],
 "metadata": {
  "anaconda-cloud": {},
  "kernelspec": {
   "display_name": "Python [default]",
   "language": "python",
   "name": "python3"
  },
  "language_info": {
   "codemirror_mode": {
    "name": "ipython",
    "version": 3
   },
   "file_extension": ".py",
   "mimetype": "text/x-python",
   "name": "python",
   "nbconvert_exporter": "python",
   "pygments_lexer": "ipython3",
   "version": "3.5.2"
  }
 },
 "nbformat": 4,
 "nbformat_minor": 1
}
