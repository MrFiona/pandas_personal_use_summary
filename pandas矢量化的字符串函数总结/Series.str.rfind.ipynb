{
 "cells": [
  {
   "cell_type": "code",
   "execution_count": 1,
   "metadata": {
    "collapsed": true
   },
   "outputs": [],
   "source": [
    "import numpy as np\n",
    "import pandas as pd"
   ]
  },
  {
   "cell_type": "markdown",
   "metadata": {},
   "source": [
    "# Series.str.rfind 返回字符串中最后一次出现指定字符的下标位置"
   ]
  },
  {
   "cell_type": "code",
   "execution_count": 2,
   "metadata": {
    "collapsed": true
   },
   "outputs": [],
   "source": [
    "s = pd.Series(['A', 'B', 'C', 'Aaba', 'Baca', 'CABA', 'dog', 'cat'])"
   ]
  },
  {
   "cell_type": "code",
   "execution_count": 3,
   "metadata": {
    "collapsed": false
   },
   "outputs": [
    {
     "name": "stdout",
     "output_type": "stream",
     "text": [
      "0   -1\n",
      "1   -1\n",
      "2   -1\n",
      "3    3\n",
      "4    3\n",
      "5   -1\n",
      "6   -1\n",
      "7    1\n",
      "dtype: int64\n"
     ]
    }
   ],
   "source": [
    "print(s.str.rfind(\"a\"))"
   ]
  },
  {
   "cell_type": "code",
   "execution_count": 4,
   "metadata": {
    "collapsed": false
   },
   "outputs": [
    {
     "name": "stdout",
     "output_type": "stream",
     "text": [
      "Help on method rfind in module pandas.core.strings:\n",
      "\n",
      "rfind(sub, start=0, end=None) method of pandas.core.strings.StringMethods instance\n",
      "    Return highest indexes in each strings in the Series/Index\n",
      "    where the substring is fully contained between [start:end].\n",
      "    Return -1 on failure. Equivalent to standard :meth:`str.rfind`.\n",
      "    \n",
      "    Parameters\n",
      "    ----------\n",
      "    sub : str\n",
      "        Substring being searched\n",
      "    start : int\n",
      "        Left edge index\n",
      "    end : int\n",
      "        Right edge index\n",
      "    \n",
      "    Returns\n",
      "    -------\n",
      "    found : Series/Index of integer values\n",
      "    \n",
      "    See Also\n",
      "    --------\n",
      "    find : Return lowest indexes in each strings\n",
      "\n"
     ]
    }
   ],
   "source": [
    "help(s.str.rfind)"
   ]
  }
 ],
 "metadata": {
  "anaconda-cloud": {},
  "kernelspec": {
   "display_name": "Python [default]",
   "language": "python",
   "name": "python3"
  },
  "language_info": {
   "codemirror_mode": {
    "name": "ipython",
    "version": 3
   },
   "file_extension": ".py",
   "mimetype": "text/x-python",
   "name": "python",
   "nbconvert_exporter": "python",
   "pygments_lexer": "ipython3",
   "version": "3.5.2"
  }
 },
 "nbformat": 4,
 "nbformat_minor": 1
}
