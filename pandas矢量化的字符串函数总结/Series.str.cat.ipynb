{
 "cells": [
  {
   "cell_type": "code",
   "execution_count": 1,
   "metadata": {
    "collapsed": true
   },
   "outputs": [],
   "source": [
    "import numpy as np\n",
    "import pandas as pd"
   ]
  },
  {
   "cell_type": "markdown",
   "metadata": {},
   "source": [
    "# Series.str.cat(others=None, sep=None, na_rep=None) 连接字符串 "
   ]
  },
  {
   "cell_type": "code",
   "execution_count": 2,
   "metadata": {
    "collapsed": true
   },
   "outputs": [],
   "source": [
    "s = pd.Series(['a', 'b', 'c', np.nan])"
   ]
  },
  {
   "cell_type": "code",
   "execution_count": 3,
   "metadata": {
    "collapsed": false
   },
   "outputs": [
    {
     "name": "stdout",
     "output_type": "stream",
     "text": [
      "a,b,c\n"
     ]
    }
   ],
   "source": [
    "print(s.str.cat(sep=','))"
   ]
  },
  {
   "cell_type": "code",
   "execution_count": 4,
   "metadata": {
    "collapsed": false
   },
   "outputs": [
    {
     "name": "stdout",
     "output_type": "stream",
     "text": [
      "0    a,A\n",
      "1    b,B\n",
      "2    c,C\n",
      "3    NaN\n",
      "dtype: object\n"
     ]
    }
   ],
   "source": [
    "print(s.str.cat(['A', 'B', 'C', 'D'], sep=',', na_rep=None)) #na_rep为None则忽略NaN值得影响"
   ]
  },
  {
   "cell_type": "code",
   "execution_count": 5,
   "metadata": {
    "collapsed": false
   },
   "outputs": [
    {
     "name": "stdout",
     "output_type": "stream",
     "text": [
      "0    a,x,1\n",
      "1    b,y,2\n",
      "2    c,z,3\n",
      "3      NaN\n",
      "dtype: object\n"
     ]
    }
   ],
   "source": [
    "print(s.str.cat([['x', 'y', 'z', 'm'], ['1', '2', '3', '4']], sep=','))"
   ]
  },
  {
   "cell_type": "code",
   "execution_count": 6,
   "metadata": {
    "collapsed": false
   },
   "outputs": [
    {
     "name": "stdout",
     "output_type": "stream",
     "text": [
      "Help on method cat in module pandas.core.strings:\n",
      "\n",
      "cat(others=None, sep=None, na_rep=None) method of pandas.core.strings.StringMethods instance\n",
      "    Concatenate strings in the Series/Index with given separator.\n",
      "    \n",
      "    Parameters\n",
      "    ----------\n",
      "    others : list-like, or list of list-likes\n",
      "      If None, returns str concatenating strings of the Series\n",
      "    sep : string or None, default None\n",
      "    na_rep : string or None, default None\n",
      "        If None, NA in the series are ignored.\n",
      "    \n",
      "    Returns\n",
      "    -------\n",
      "    concat : Series/Index of objects or str\n",
      "    \n",
      "    Examples\n",
      "    --------\n",
      "    When ``na_rep`` is `None` (default behavior), NaN value(s)\n",
      "    in the Series are ignored.\n",
      "    \n",
      "    >>> Series(['a','b',np.nan,'c']).str.cat(sep=' ')\n",
      "    'a b c'\n",
      "    \n",
      "    >>> Series(['a','b',np.nan,'c']).str.cat(sep=' ', na_rep='?')\n",
      "    'a b ? c'\n",
      "    \n",
      "    If ``others`` is specified, corresponding values are\n",
      "    concatenated with the separator. Result will be a Series of strings.\n",
      "    \n",
      "    >>> Series(['a', 'b', 'c']).str.cat(['A', 'B', 'C'], sep=',')\n",
      "    0    a,A\n",
      "    1    b,B\n",
      "    2    c,C\n",
      "    dtype: object\n",
      "    \n",
      "    Otherwise, strings in the Series are concatenated. Result will be a string.\n",
      "    \n",
      "    >>> Series(['a', 'b', 'c']).str.cat(sep=',')\n",
      "    'a,b,c'\n",
      "    \n",
      "    Also, you can pass a list of list-likes.\n",
      "    \n",
      "    >>> Series(['a', 'b']).str.cat([['x', 'y'], ['1', '2']], sep=',')\n",
      "    0    a,x,1\n",
      "    1    b,y,2\n",
      "    dtype: object\n",
      "\n"
     ]
    }
   ],
   "source": [
    "help(s.str.cat)"
   ]
  },
  {
   "cell_type": "code",
   "execution_count": null,
   "metadata": {
    "collapsed": true
   },
   "outputs": [],
   "source": [
    "\"\"\"\n",
    "    参数: \n",
    "    others : 列表或复合列表,默认为None,如果为None则连接本身的元素 \n",
    "    sep : 字符串 或者None,默认为None \n",
    "    na_rep : 字符串或者 None, 默认 None。如果为None缺失值将被忽略。\n",
    "\"\"\""
   ]
  }
 ],
 "metadata": {
  "anaconda-cloud": {},
  "kernelspec": {
   "display_name": "Python [default]",
   "language": "python",
   "name": "python3"
  },
  "language_info": {
   "codemirror_mode": {
    "name": "ipython",
    "version": 3
   },
   "file_extension": ".py",
   "mimetype": "text/x-python",
   "name": "python",
   "nbconvert_exporter": "python",
   "pygments_lexer": "ipython3",
   "version": "3.5.2"
  }
 },
 "nbformat": 4,
 "nbformat_minor": 1
}
