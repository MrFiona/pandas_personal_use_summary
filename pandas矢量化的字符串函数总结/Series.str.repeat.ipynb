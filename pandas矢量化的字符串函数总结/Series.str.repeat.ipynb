{
 "cells": [
  {
   "cell_type": "code",
   "execution_count": 6,
   "metadata": {
    "collapsed": true
   },
   "outputs": [],
   "source": [
    "import numpy as np\n",
    "import pandas as pd"
   ]
  },
  {
   "cell_type": "markdown",
   "metadata": {},
   "source": [
    "# Series.str.repeat复制字符串 "
   ]
  },
  {
   "cell_type": "code",
   "execution_count": 2,
   "metadata": {
    "collapsed": true
   },
   "outputs": [],
   "source": [
    "s = pd.Series(['A', 'B', 'C', 'Aaba', 'Baca', 'CABA', 'dog', 'cat'])"
   ]
  },
  {
   "cell_type": "code",
   "execution_count": 4,
   "metadata": {
    "collapsed": false
   },
   "outputs": [
    {
     "name": "stdout",
     "output_type": "stream",
     "text": [
      "0          AA\n",
      "1          BB\n",
      "2          CC\n",
      "3    AabaAaba\n",
      "4    BacaBaca\n",
      "5    CABACABA\n",
      "6      dogdog\n",
      "7      catcat\n",
      "dtype: object\n"
     ]
    }
   ],
   "source": [
    "print(s.str.repeat(2))"
   ]
  },
  {
   "cell_type": "code",
   "execution_count": 19,
   "metadata": {
    "collapsed": false
   },
   "outputs": [
    {
     "name": "stdout",
     "output_type": "stream",
     "text": [
      "0                           A\n",
      "1                          BB\n",
      "2                         CCC\n",
      "3            AabaAabaAabaAaba\n",
      "4        BacaBacaBacaBacaBaca\n",
      "5    CABACABACABACABACABACABA\n",
      "6       dogdogdogdogdogdogdog\n",
      "7    catcatcatcatcatcatcatcat\n",
      "dtype: object\n"
     ]
    }
   ],
   "source": [
    "print(s.str.repeat(np.array([1,2,3,4,5,6,7,8]))) #todo repeat为向量则是可以设置每个元素的次数 "
   ]
  },
  {
   "cell_type": "code",
   "execution_count": 5,
   "metadata": {
    "collapsed": false
   },
   "outputs": [
    {
     "name": "stdout",
     "output_type": "stream",
     "text": [
      "Help on method repeat in module pandas.core.strings:\n",
      "\n",
      "repeat(repeats) method of pandas.core.strings.StringMethods instance\n",
      "    Duplicate each string in the Series/Index by indicated number\n",
      "    of times.\n",
      "    \n",
      "    Parameters\n",
      "    ----------\n",
      "    repeats : int or array\n",
      "        Same value for all (int) or different value per (array)\n",
      "    \n",
      "    Returns\n",
      "    -------\n",
      "    repeated : Series/Index of objects\n",
      "\n"
     ]
    }
   ],
   "source": [
    "help(s.str.repeat)"
   ]
  },
  {
   "cell_type": "code",
   "execution_count": null,
   "metadata": {
    "collapsed": true
   },
   "outputs": [],
   "source": [
    "\"\"\"\n",
    "    参数: \n",
    "    repeats : 整型或者向量,整型是每个都复制相同的次数,向量则是可以设置每个元素的次数 \n",
    "\"\"\""
   ]
  }
 ],
 "metadata": {
  "anaconda-cloud": {},
  "kernelspec": {
   "display_name": "Python [default]",
   "language": "python",
   "name": "python3"
  },
  "language_info": {
   "codemirror_mode": {
    "name": "ipython",
    "version": 3
   },
   "file_extension": ".py",
   "mimetype": "text/x-python",
   "name": "python",
   "nbconvert_exporter": "python",
   "pygments_lexer": "ipython3",
   "version": "3.5.2"
  }
 },
 "nbformat": 4,
 "nbformat_minor": 1
}
