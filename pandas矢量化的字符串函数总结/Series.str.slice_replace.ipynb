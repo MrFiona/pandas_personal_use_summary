{
 "cells": [
  {
   "cell_type": "code",
   "execution_count": 1,
   "metadata": {
    "collapsed": true
   },
   "outputs": [],
   "source": [
    "import re\n",
    "import numpy as np\n",
    "import pandas as pd"
   ]
  },
  {
   "cell_type": "markdown",
   "metadata": {},
   "source": [
    "# Series.str.slice_replace按下标替换"
   ]
  },
  {
   "cell_type": "code",
   "execution_count": 2,
   "metadata": {
    "collapsed": true
   },
   "outputs": [],
   "source": [
    "s = pd.Series(['A', 'B', 'C', 'Aaba', 'Baca', 'CABA', 'dog', 'cat'])"
   ]
  },
  {
   "cell_type": "code",
   "execution_count": 3,
   "metadata": {
    "collapsed": false
   },
   "outputs": [
    {
     "name": "stdout",
     "output_type": "stream",
     "text": [
      "0     A@\n",
      "1     B@\n",
      "2     C@\n",
      "3    A@a\n",
      "4    B@a\n",
      "5    C@A\n",
      "6     d@\n",
      "7     c@\n",
      "dtype: object\n"
     ]
    }
   ],
   "source": [
    "print(s.str.slice_replace(1,3, repl='@'))"
   ]
  },
  {
   "cell_type": "code",
   "execution_count": 4,
   "metadata": {
    "collapsed": false
   },
   "outputs": [
    {
     "name": "stdout",
     "output_type": "stream",
     "text": [
      "Help on method slice_replace in module pandas.core.strings:\n",
      "\n",
      "slice_replace(start=None, stop=None, repl=None) method of pandas.core.strings.StringMethods instance\n",
      "    Replace a slice of each string in the Series/Index with another\n",
      "    string.\n",
      "    \n",
      "    Parameters\n",
      "    ----------\n",
      "    start : int or None\n",
      "    stop : int or None\n",
      "    repl : str or None\n",
      "        String for replacement\n",
      "    \n",
      "    Returns\n",
      "    -------\n",
      "    replaced : Series/Index of objects\n",
      "\n"
     ]
    }
   ],
   "source": [
    "help(s.str.slice_replace)"
   ]
  }
 ],
 "metadata": {
  "anaconda-cloud": {},
  "kernelspec": {
   "display_name": "Python [default]",
   "language": "python",
   "name": "python3"
  },
  "language_info": {
   "codemirror_mode": {
    "name": "ipython",
    "version": 3
   },
   "file_extension": ".py",
   "mimetype": "text/x-python",
   "name": "python",
   "nbconvert_exporter": "python",
   "pygments_lexer": "ipython3",
   "version": "3.5.2"
  }
 },
 "nbformat": 4,
 "nbformat_minor": 1
}
