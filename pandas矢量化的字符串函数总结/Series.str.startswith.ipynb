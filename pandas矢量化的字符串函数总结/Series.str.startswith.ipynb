{
 "cells": [
  {
   "cell_type": "code",
   "execution_count": 1,
   "metadata": {
    "collapsed": true
   },
   "outputs": [],
   "source": [
    "import re\n",
    "import numpy as np\n",
    "import pandas as pd"
   ]
  },
  {
   "cell_type": "markdown",
   "metadata": {},
   "source": [
    "# Series.str.startswith查看元素是否以…开头 "
   ]
  },
  {
   "cell_type": "code",
   "execution_count": 2,
   "metadata": {
    "collapsed": true
   },
   "outputs": [],
   "source": [
    "s = pd.Series(['A', 'B', 'C', 'Aaba', 'Baca', 'CABA', 'dog', 'cat', np.nan, np.NaN, np.NAN])"
   ]
  },
  {
   "cell_type": "code",
   "execution_count": 3,
   "metadata": {
    "collapsed": false
   },
   "outputs": [
    {
     "name": "stdout",
     "output_type": "stream",
     "text": [
      "0      True\n",
      "1     False\n",
      "2     False\n",
      "3      True\n",
      "4     False\n",
      "5     False\n",
      "6     False\n",
      "7     False\n",
      "8       NaN\n",
      "9       NaN\n",
      "10      NaN\n",
      "dtype: object\n"
     ]
    }
   ],
   "source": [
    "print(s.str.startswith(\"A\"))"
   ]
  },
  {
   "cell_type": "code",
   "execution_count": 4,
   "metadata": {
    "collapsed": false,
    "scrolled": true
   },
   "outputs": [
    {
     "name": "stdout",
     "output_type": "stream",
     "text": [
      "0      True\n",
      "1     False\n",
      "2     False\n",
      "3      True\n",
      "4     False\n",
      "5     False\n",
      "6     False\n",
      "7     False\n",
      "8     False\n",
      "9     False\n",
      "10    False\n",
      "dtype: bool\n"
     ]
    }
   ],
   "source": [
    "print(s.str.startswith(\"A\", na=False))"
   ]
  },
  {
   "cell_type": "code",
   "execution_count": 5,
   "metadata": {
    "collapsed": false
   },
   "outputs": [
    {
     "name": "stdout",
     "output_type": "stream",
     "text": [
      "0       A\n",
      "3    Aaba\n",
      "dtype: object\n"
     ]
    }
   ],
   "source": [
    "print(s[s.str.startswith(\"A\", na=False)]) #todo 去掉空值的影响，否则会报错 na设置空值的默认处理，此处默认空值处理后为False"
   ]
  },
  {
   "cell_type": "code",
   "execution_count": 6,
   "metadata": {
    "collapsed": false
   },
   "outputs": [
    {
     "name": "stdout",
     "output_type": "stream",
     "text": [
      "Help on method str_startswith in module pandas.core.strings:\n",
      "\n",
      "str_startswith(pat, na=nan) method of pandas.core.strings.StringMethods instance\n",
      "    Return boolean Series/``array`` indicating whether each string in the\n",
      "    Series/Index starts with passed pattern. Equivalent to\n",
      "    :meth:`str.startswith`.\n",
      "    \n",
      "    Parameters\n",
      "    ----------\n",
      "    pat : string\n",
      "        Character sequence\n",
      "    na : bool, default NaN\n",
      "    \n",
      "    Returns\n",
      "    -------\n",
      "    startswith : Series/array of boolean values\n",
      "\n"
     ]
    }
   ],
   "source": [
    "help(s.str.startswith)"
   ]
  }
 ],
 "metadata": {
  "anaconda-cloud": {},
  "kernelspec": {
   "display_name": "Python [default]",
   "language": "python",
   "name": "python3"
  },
  "language_info": {
   "codemirror_mode": {
    "name": "ipython",
    "version": 3
   },
   "file_extension": ".py",
   "mimetype": "text/x-python",
   "name": "python",
   "nbconvert_exporter": "python",
   "pygments_lexer": "ipython3",
   "version": "3.5.2"
  }
 },
 "nbformat": 4,
 "nbformat_minor": 1
}
