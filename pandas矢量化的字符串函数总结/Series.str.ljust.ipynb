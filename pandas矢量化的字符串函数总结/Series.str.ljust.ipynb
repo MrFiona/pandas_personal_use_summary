{
 "cells": [
  {
   "cell_type": "code",
   "execution_count": 1,
   "metadata": {
    "collapsed": true
   },
   "outputs": [],
   "source": [
    "import pandas as pd"
   ]
  },
  {
   "cell_type": "markdown",
   "metadata": {},
   "source": [
    "# Series.str.ljust设置字符的宽度,从两边填充,等同于pad(side=”right”)"
   ]
  },
  {
   "cell_type": "code",
   "execution_count": 2,
   "metadata": {
    "collapsed": true
   },
   "outputs": [],
   "source": [
    "s = pd.Series(['A', 'B', 'C', 'Aaba', 'Baca', 'CABA', 'dog', 'cat'])"
   ]
  },
  {
   "cell_type": "code",
   "execution_count": 3,
   "metadata": {
    "collapsed": false
   },
   "outputs": [
    {
     "name": "stdout",
     "output_type": "stream",
     "text": [
      "0    Aaaaa\n",
      "1    Baaaa\n",
      "2    Caaaa\n",
      "3    Aabaa\n",
      "4    Bacaa\n",
      "5    CABAa\n",
      "6    dogaa\n",
      "7    cataa\n",
      "dtype: object\n"
     ]
    }
   ],
   "source": [
    "print(s.str.ljust(5,fillchar=\"a\"))"
   ]
  },
  {
   "cell_type": "code",
   "execution_count": 4,
   "metadata": {
    "collapsed": false
   },
   "outputs": [
    {
     "name": "stdout",
     "output_type": "stream",
     "text": [
      "Help on method ljust in module pandas.core.strings:\n",
      "\n",
      "ljust(width, fillchar=' ') method of pandas.core.strings.StringMethods instance\n",
      "    Filling right side of strings in the Series/Index with an\n",
      "    additional character. Equivalent to :meth:`str.ljust`.\n",
      "    \n",
      "    Parameters\n",
      "    ----------\n",
      "    width : int\n",
      "        Minimum width of resulting string; additional characters will be filled\n",
      "        with ``fillchar``\n",
      "    fillchar : str\n",
      "        Additional character for filling, default is whitespace\n",
      "    \n",
      "    Returns\n",
      "    -------\n",
      "    filled : Series/Index of objects\n",
      "\n"
     ]
    }
   ],
   "source": [
    "help(s.str.ljust)"
   ]
  },
  {
   "cell_type": "code",
   "execution_count": null,
   "metadata": {
    "collapsed": true
   },
   "outputs": [],
   "source": [
    "\"\"\"\n",
    "    参数: \n",
    "    width : 整型,最小宽度 \n",
    "    fillchar : 字符串,填充内容 \n",
    "\"\"\""
   ]
  }
 ],
 "metadata": {
  "anaconda-cloud": {},
  "kernelspec": {
   "display_name": "Python [default]",
   "language": "python",
   "name": "python3"
  },
  "language_info": {
   "codemirror_mode": {
    "name": "ipython",
    "version": 3
   },
   "file_extension": ".py",
   "mimetype": "text/x-python",
   "name": "python",
   "nbconvert_exporter": "python",
   "pygments_lexer": "ipython3",
   "version": "3.5.2"
  }
 },
 "nbformat": 4,
 "nbformat_minor": 1
}
