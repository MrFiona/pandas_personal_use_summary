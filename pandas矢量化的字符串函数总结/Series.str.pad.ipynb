{
 "cells": [
  {
   "cell_type": "code",
   "execution_count": 1,
   "metadata": {
    "collapsed": true
   },
   "outputs": [],
   "source": [
    "import pandas as pd"
   ]
  },
  {
   "cell_type": "markdown",
   "metadata": {},
   "source": [
    "# Series.str.pad设置字符串的宽度 "
   ]
  },
  {
   "cell_type": "code",
   "execution_count": 2,
   "metadata": {
    "collapsed": true
   },
   "outputs": [],
   "source": [
    "s = pd.Series(['A', 'B', 'C', 'Aaba', 'Baca', 'CABA', 'dog', 'cat'])"
   ]
  },
  {
   "cell_type": "code",
   "execution_count": 3,
   "metadata": {
    "collapsed": false
   },
   "outputs": [
    {
     "name": "stdout",
     "output_type": "stream",
     "text": [
      "0    aaaaA\n",
      "1    aaaaB\n",
      "2    aaaaC\n",
      "3    aAaba\n",
      "4    aBaca\n",
      "5    aCABA\n",
      "6    aadog\n",
      "7    aacat\n",
      "dtype: object\n"
     ]
    }
   ],
   "source": [
    "print(s.str.pad(5,side=\"left\",fillchar=\"a\"))"
   ]
  },
  {
   "cell_type": "code",
   "execution_count": null,
   "metadata": {
    "collapsed": true
   },
   "outputs": [],
   "source": []
  },
  {
   "cell_type": "code",
   "execution_count": 4,
   "metadata": {
    "collapsed": false
   },
   "outputs": [
    {
     "name": "stdout",
     "output_type": "stream",
     "text": [
      "Help on method pad in module pandas.core.strings:\n",
      "\n",
      "pad(width, side='left', fillchar=' ') method of pandas.core.strings.StringMethods instance\n",
      "    Pad strings in the Series/Index with an additional character to\n",
      "    specified side.\n",
      "    \n",
      "    Parameters\n",
      "    ----------\n",
      "    width : int\n",
      "        Minimum width of resulting string; additional characters will be filled\n",
      "        with spaces\n",
      "    side : {'left', 'right', 'both'}, default 'left'\n",
      "    fillchar : str\n",
      "        Additional character for filling, default is whitespace\n",
      "    \n",
      "    Returns\n",
      "    -------\n",
      "    padded : Series/Index of objects\n",
      "\n"
     ]
    }
   ],
   "source": [
    "help(s.str.pad)"
   ]
  },
  {
   "cell_type": "code",
   "execution_count": null,
   "metadata": {
    "collapsed": true
   },
   "outputs": [],
   "source": [
    "\"\"\"\n",
    "    参数: \n",
    "    width : 整型,字符串最小的宽度 \n",
    "    side : {‘left’, ‘right’, ‘both’}填充的方向 \n",
    "    fillchar : 字符串,空白的地方填充的东西 \n",
    "\"\"\""
   ]
  }
 ],
 "metadata": {
  "anaconda-cloud": {},
  "kernelspec": {
   "display_name": "Python [default]",
   "language": "python",
   "name": "python3"
  },
  "language_info": {
   "codemirror_mode": {
    "name": "ipython",
    "version": 3
   },
   "file_extension": ".py",
   "mimetype": "text/x-python",
   "name": "python",
   "nbconvert_exporter": "python",
   "pygments_lexer": "ipython3",
   "version": "3.5.2"
  }
 },
 "nbformat": 4,
 "nbformat_minor": 1
}
