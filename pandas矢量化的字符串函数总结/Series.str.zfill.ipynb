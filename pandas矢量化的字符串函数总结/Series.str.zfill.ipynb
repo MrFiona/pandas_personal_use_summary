{
 "cells": [
  {
   "cell_type": "code",
   "execution_count": 1,
   "metadata": {
    "collapsed": true
   },
   "outputs": [],
   "source": [
    "import pandas as pd"
   ]
  },
  {
   "cell_type": "markdown",
   "metadata": {},
   "source": [
    "# Series.str.zfill等同于pad(with,side=”left”,fillchar=”0”)0填充"
   ]
  },
  {
   "cell_type": "code",
   "execution_count": 2,
   "metadata": {
    "collapsed": true
   },
   "outputs": [],
   "source": [
    "s = pd.Series(['A', 'B', 'C', 'Aaba', 'Baca', 'CABA', 'dog', 'cat'])"
   ]
  },
  {
   "cell_type": "code",
   "execution_count": 7,
   "metadata": {
    "collapsed": false
   },
   "outputs": [
    {
     "name": "stdout",
     "output_type": "stream",
     "text": [
      "0    0000A\n",
      "1    0000B\n",
      "2    0000C\n",
      "3    0Aaba\n",
      "4    0Baca\n",
      "5    0CABA\n",
      "6    00dog\n",
      "7    00cat\n",
      "dtype: object\n"
     ]
    }
   ],
   "source": [
    "print(s.str.zfill(5))"
   ]
  },
  {
   "cell_type": "code",
   "execution_count": 4,
   "metadata": {
    "collapsed": false
   },
   "outputs": [
    {
     "name": "stdout",
     "output_type": "stream",
     "text": [
      "Help on method zfill in module pandas.core.strings:\n",
      "\n",
      "zfill(width) method of pandas.core.strings.StringMethods instance\n",
      "    \"\n",
      "    Filling left side of strings in the Series/Index with 0.\n",
      "    Equivalent to :meth:`str.zfill`.\n",
      "    \n",
      "    Parameters\n",
      "    ----------\n",
      "    width : int\n",
      "        Minimum width of resulting string; additional characters will be\n",
      "        filled with 0\n",
      "    \n",
      "    Returns\n",
      "    -------\n",
      "    filled : Series/Index of objects\n",
      "\n"
     ]
    }
   ],
   "source": [
    "help(s.str.zfill)"
   ]
  }
 ],
 "metadata": {
  "anaconda-cloud": {},
  "kernelspec": {
   "display_name": "Python [default]",
   "language": "python",
   "name": "python3"
  },
  "language_info": {
   "codemirror_mode": {
    "name": "ipython",
    "version": 3
   },
   "file_extension": ".py",
   "mimetype": "text/x-python",
   "name": "python",
   "nbconvert_exporter": "python",
   "pygments_lexer": "ipython3",
   "version": "3.5.2"
  }
 },
 "nbformat": 4,
 "nbformat_minor": 1
}
