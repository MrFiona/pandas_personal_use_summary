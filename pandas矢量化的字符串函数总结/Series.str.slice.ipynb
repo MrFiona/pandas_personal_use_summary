{
 "cells": [
  {
   "cell_type": "code",
   "execution_count": 1,
   "metadata": {
    "collapsed": true
   },
   "outputs": [],
   "source": [
    "import re\n",
    "import numpy as np\n",
    "import pandas as pd"
   ]
  },
  {
   "cell_type": "markdown",
   "metadata": {},
   "source": [
    "# Series.str.slice按下标截取字符串"
   ]
  },
  {
   "cell_type": "code",
   "execution_count": 2,
   "metadata": {
    "collapsed": true
   },
   "outputs": [],
   "source": [
    "s = pd.Series(['A', 'B', 'C', 'Aaba', 'Baca', 'CABA', 'dog', 'cat'])"
   ]
  },
  {
   "cell_type": "code",
   "execution_count": 3,
   "metadata": {
    "collapsed": false
   },
   "outputs": [
    {
     "name": "stdout",
     "output_type": "stream",
     "text": [
      "0      \n",
      "1      \n",
      "2      \n",
      "3    ab\n",
      "4    ac\n",
      "5    AB\n",
      "6    og\n",
      "7    at\n",
      "dtype: object\n"
     ]
    }
   ],
   "source": [
    "print(s.str.slice(1,3))"
   ]
  },
  {
   "cell_type": "code",
   "execution_count": 4,
   "metadata": {
    "collapsed": false
   },
   "outputs": [
    {
     "name": "stdout",
     "output_type": "stream",
     "text": [
      "Help on method slice in module pandas.core.strings:\n",
      "\n",
      "slice(start=None, stop=None, step=None) method of pandas.core.strings.StringMethods instance\n",
      "    Slice substrings from each element in the Series/Index\n",
      "    \n",
      "    Parameters\n",
      "    ----------\n",
      "    start : int or None\n",
      "    stop : int or None\n",
      "    step : int or None\n",
      "    \n",
      "    Returns\n",
      "    -------\n",
      "    sliced : Series/Index of objects\n",
      "\n"
     ]
    }
   ],
   "source": [
    "help(s.str.slice)"
   ]
  }
 ],
 "metadata": {
  "anaconda-cloud": {},
  "kernelspec": {
   "display_name": "Python [default]",
   "language": "python",
   "name": "python3"
  },
  "language_info": {
   "codemirror_mode": {
    "name": "ipython",
    "version": 3
   },
   "file_extension": ".py",
   "mimetype": "text/x-python",
   "name": "python",
   "nbconvert_exporter": "python",
   "pygments_lexer": "ipython3",
   "version": "3.5.2"
  }
 },
 "nbformat": 4,
 "nbformat_minor": 1
}
