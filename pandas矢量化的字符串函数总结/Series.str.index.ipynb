{
 "cells": [
  {
   "cell_type": "code",
   "execution_count": 1,
   "metadata": {
    "collapsed": true
   },
   "outputs": [],
   "source": [
    "import numpy as np\n",
    "import pandas as pd"
   ]
  },
  {
   "cell_type": "markdown",
   "metadata": {},
   "source": [
    "# Series.str.index 返回字符串中第一次出现指定字符的下标位置"
   ]
  },
  {
   "cell_type": "code",
   "execution_count": 2,
   "metadata": {
    "collapsed": true
   },
   "outputs": [],
   "source": [
    "s = pd.Series(['Aa', 'Ba', 'Ca', 'Aaba', 'Baca', 'CABAa', 'doga', 'cat'])"
   ]
  },
  {
   "cell_type": "code",
   "execution_count": 3,
   "metadata": {
    "collapsed": false
   },
   "outputs": [
    {
     "name": "stdout",
     "output_type": "stream",
     "text": [
      "0    1\n",
      "1    1\n",
      "2    1\n",
      "3    1\n",
      "4    1\n",
      "5    4\n",
      "6    3\n",
      "7    1\n",
      "dtype: int64\n"
     ]
    }
   ],
   "source": [
    "print(s.str.index('a')) #todo 如果是'b'则会报错，因为有的字符串并没有含有字符b"
   ]
  },
  {
   "cell_type": "code",
   "execution_count": 4,
   "metadata": {
    "collapsed": false
   },
   "outputs": [
    {
     "name": "stdout",
     "output_type": "stream",
     "text": [
      "Help on method index in module pandas.core.strings:\n",
      "\n",
      "index(sub, start=0, end=None) method of pandas.core.strings.StringMethods instance\n",
      "    Return lowest indexes in each strings where the substring is\n",
      "    fully contained between [start:end]. This is the same as\n",
      "    ``str.find`` except instead of returning -1, it raises a ValueError\n",
      "    when the substring is not found. Equivalent to standard ``str.index``.\n",
      "    \n",
      "    Parameters\n",
      "    ----------\n",
      "    sub : str\n",
      "        Substring being searched\n",
      "    start : int\n",
      "        Left edge index\n",
      "    end : int\n",
      "        Right edge index\n",
      "    \n",
      "    Returns\n",
      "    -------\n",
      "    found : Series/Index of objects\n",
      "    \n",
      "    See Also\n",
      "    --------\n",
      "    rindex : Return highest indexes in each strings\n",
      "\n"
     ]
    }
   ],
   "source": [
    "help(s.str.index)"
   ]
  },
  {
   "cell_type": "markdown",
   "metadata": {},
   "source": [
    "# 如果给定的字符在某个位置找不到则会报错ValueError，与之有类似功能的Series.str.find如果找不到则会返回-1而不会报错"
   ]
  },
  {
   "cell_type": "code",
   "execution_count": 5,
   "metadata": {
    "collapsed": false
   },
   "outputs": [
    {
     "data": {
      "text/plain": [
       "0       Aa\n",
       "1       Ba\n",
       "2       Ca\n",
       "3     Aaba\n",
       "4     Baca\n",
       "5    CABAa\n",
       "6     doga\n",
       "7      cat\n",
       "dtype: object"
      ]
     },
     "execution_count": 5,
     "metadata": {},
     "output_type": "execute_result"
    }
   ],
   "source": [
    "s"
   ]
  }
 ],
 "metadata": {
  "anaconda-cloud": {},
  "kernelspec": {
   "display_name": "Python [default]",
   "language": "python",
   "name": "python3"
  },
  "language_info": {
   "codemirror_mode": {
    "name": "ipython",
    "version": 3
   },
   "file_extension": ".py",
   "mimetype": "text/x-python",
   "name": "python",
   "nbconvert_exporter": "python",
   "pygments_lexer": "ipython3",
   "version": "3.5.2"
  }
 },
 "nbformat": 4,
 "nbformat_minor": 1
}
